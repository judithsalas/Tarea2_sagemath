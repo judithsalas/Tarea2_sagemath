#Ejercicio 1. Calcula el floor y el ceiling de -3.56
import math

num = -3.56

floor_num = math.floor(num)
ceil_num = math.ceil(num)

print("Floor of -3.56 is:", floor_num)
print("Ceiling of -3.56 is:", ceil_num)

#Ejercicio 2. Calcula el logaritmo en base e de 100, calcula el logaritmo en base 10 de 100, después calcula el cociente. ¿Cual deberia ser el resultado?
log(100)
log(100, 10)
log(100) / log(100, 10)

#Ejercicio 3. Calcula el logaritmo en base 2 de 64.
log(64, 2)

#Ejercicio 4. Compara $e^iπ$ con una aproximación numérica, usando pi.n().
import math
# Calcula la aproximación numérica de pi
pi_num = pi.n()
# Calcula el valor de e^i*pi
complex_num = math.e**(complex(0, pi_num))
# Compara los dos valores
if complex_num.real == -1 and complex_num.imag == 0:
    print("e^i*pi es igual a -1")
else:
    print("e^i*pi no es igual a -1")

#Ejercicio 5. Calcula sin (π/2), cot (π/4) i csc (π/16).
(sin(pi/2), cot(pi/4), csc(pi/16))
